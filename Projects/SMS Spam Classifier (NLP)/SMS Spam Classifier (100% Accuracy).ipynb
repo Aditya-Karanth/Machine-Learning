{
  "nbformat": 4,
  "nbformat_minor": 0,
  "metadata": {
    "colab": {
      "name": "SMS Spam Classifier (100% Accuracy).ipynb",
      "provenance": [],
      "collapsed_sections": [
        "VWrBd2h67ujc",
        "uaOMxMMNitUB",
        "DYfNb3Xri1f9",
        "rdTmih0jjFo2",
        "2hqAL-wMPNDe",
        "5Pf9PXLVZxF6",
        "Y-RH1tbib2tk"
      ],
      "toc_visible": true,
      "authorship_tag": "ABX9TyNaNFr76QPVPTv96UQq01g2",
      "include_colab_link": true
    },
    "kernelspec": {
      "name": "python3",
      "display_name": "Python 3"
    },
    "language_info": {
      "name": "python"
    }
  },
  "cells": [
    {
      "cell_type": "markdown",
      "metadata": {
        "id": "view-in-github",
        "colab_type": "text"
      },
      "source": [
        "<a href=\"https://colab.research.google.com/github/Aditya-Karanth/Machine-Learning/blob/master/Projects/SMS%20Spam%20Classifier%20(NLP)/SMS%20Spam%20Classifier%20(100%25%20Accuracy).ipynb\" target=\"_parent\"><img src=\"https://colab.research.google.com/assets/colab-badge.svg\" alt=\"Open In Colab\"/></a>"
      ]
    },
    {
      "cell_type": "markdown",
      "metadata": {
        "id": "VWrBd2h67ujc"
      },
      "source": [
        "**<h1><div align=\"center\">SMS Spam Classifier </div></h1>**\n",
        "\n",
        "\n",
        "---\n",
        "\n",
        "**<h2>Problem Statement: </h2>** \n",
        "\n",
        "> To classify a new text message provided by a user is **spam** or **not spam**.\n",
        "\n",
        "&nbsp;\n",
        "\n",
        "**Data Link**: [UCI SMS Spam Collection Data Set](https://archive.ics.uci.edu/ml/datasets/SMS+Spam+Collection/) [5572 Documents]\n",
        "\n",
        "***Keywords:*** *make_pipeline, CountVectorizer, TfidfTransformer, LogisticRegression, MultinomialNB, stop_words*\n",
        "\n",
        "---\n",
        "\n",
        "**<h2>Project Planning :</h2>** \n",
        "\n",
        "\n",
        "### **1. Gathering Data**\n",
        "- **Imports -** \n",
        "  - Contains all the imports necessary for reading data, visualizations and model buiding and evaluating.\n",
        "- Extracting zip files from downloaded UCI dataset.\n",
        "\n",
        "\n",
        "### **2. Exploring Data**\n",
        "- Understand the nature of the data .info() .describe()\n",
        "- Understand the Distribution of target labels.\n",
        "- Obtaining insights on the new column 'length', spam and ham messages, and their relation via graphs\n",
        "\n",
        "\n",
        "### **3. Model Building**\n",
        "- Data is split in to *train* and *test* messages .\n",
        "- Text Messages are first converted in to Bag-of-words representation using *CountVectorizer* and *TfidfTransformer*, then to a Model.\n",
        "\n",
        "- **Pipeline -** \n",
        "  - Deploying a Pileline, constructed using below three steps.\n",
        "\n",
        "  1. **Count Vectorizer -**\n",
        "    - Remove common English words using *stop_words*.\n",
        "    - **Tokenization**: Splits each document into the words that appear in it on whitespace and punctuation.\n",
        "    - **Vocabulary building**: Collect a vocabulary of all words that appear in any of the documents, and numbers them.\n",
        "\n",
        "  2. **Tf-idf Transformer -** \n",
        "    - Takes in the sparse matrix output produced by Count Vectorizer and transforms it by giving high weight to any term that appears often in a particular document, but not in many documents in the corpus.\n",
        "\n",
        "  3. **Model -**\n",
        "    - *Logistic Regression* and *Multinomial Naive Bayes* Classifiers to classify messages (tf-idf sparse matrix) in to Spam or Ham \n",
        "\n",
        "\n",
        "- **GridSearchCV -**\n",
        "  - Deploying a grid search using Pipeline, Parameters to adjust, with Cross-Validation of 5 folds.\n",
        "  - Fitting the created grid with train data and obtaining the Best cross-validation score and Best Parameters\n",
        "\n",
        "- Exploring created Vocabulary, Stop Words, TFIDF Vocabulary\n",
        "\n",
        "### **4. Predictions and Evaluation**\n",
        "  - Predictions on test text data.\n",
        "  - Evaluation of model with classification report and confusion matrix.\n",
        "\n",
        "### **5. New SMS Classifier Prediction for User** \n",
        "  - Building a complete model with best parameters and best estimator obtained from GridSearchCV on whole dataset (X and y) without splitting.\n",
        "  - Developing a function '*classify*', to classify any user provided message in to spam or not spam.\n",
        "  - Previlage for user to input any text message and Check model predictions on SMS.\n",
        "\n",
        "---\n",
        "\n",
        "Solution by     : **Aditya Karanth**.\n",
        "\n",
        "GitHub Profile  : https://github.com/Aditya-Karanth\n",
        "\n",
        "Kaggle Profile  : https://www.kaggle.com/adityakaranth\n",
        "\n",
        "LinkedIn Profile: https://www.linkedin.com/in/u-aditya-karanth-2206/"
      ]
    },
    {
      "cell_type": "markdown",
      "metadata": {
        "id": "uaOMxMMNitUB"
      },
      "source": [
        "# Imports\n"
      ]
    },
    {
      "cell_type": "code",
      "metadata": {
        "id": "FAFd7cVM4YkX"
      },
      "source": [
        "import numpy as np\n",
        "import pandas as pd\n",
        "import string\n",
        "\n",
        "# Model\n",
        "from sklearn.model_selection import train_test_split, GridSearchCV\n",
        "from sklearn.feature_extraction.text import CountVectorizer, TfidfTransformer\n",
        "from sklearn.pipeline import make_pipeline \n",
        "from sklearn.linear_model import LogisticRegression\n",
        "from sklearn.naive_bayes import MultinomialNB\n",
        "from sklearn.metrics import classification_report, confusion_matrix\n",
        "\n",
        "# Visualization\n",
        "import matplotlib\n",
        "import matplotlib.pyplot as plt\n",
        "import seaborn as sns\n",
        "%matplotlib inline\n",
        "sns.set_style('whitegrid')\n",
        "sns.set_context('notebook')\n",
        "matplotlib.rcParams['figure.figsize'] = (12,8) "
      ],
      "execution_count": 1,
      "outputs": []
    },
    {
      "cell_type": "code",
      "metadata": {
        "colab": {
          "base_uri": "https://localhost:8080/",
          "height": 0
        },
        "id": "VkCwiGTT2qR8",
        "outputId": "943c8179-41cc-4e23-c506-f0a7b32a71bc"
      },
      "source": [
        "# Extracting files from 'smsspamcollection' zip file\n",
        "\n",
        "from zipfile import ZipFile\n",
        "\n",
        "with ZipFile(\"smsspamcollection.zip\", 'r') as z:\n",
        "    # printing all the contents of the zip file\n",
        "    z.printdir()\n",
        "    # extracting all the files\n",
        "    print('Extracting all the files now...')\n",
        "    z.extractall()\n",
        "    print('Done!')"
      ],
      "execution_count": 2,
      "outputs": [
        {
          "output_type": "stream",
          "text": [
            "File Name                                             Modified             Size\n",
            "SMSSpamCollection                              2011-03-15 22:36:02       477907\n",
            "readme                                         2011-04-18 14:53:56         5868\n",
            "Extracting all the files now...\n",
            "Done!\n"
          ],
          "name": "stdout"
        }
      ]
    },
    {
      "cell_type": "markdown",
      "metadata": {
        "id": "DYfNb3Xri1f9"
      },
      "source": [
        "# Exploring Data"
      ]
    },
    {
      "cell_type": "code",
      "metadata": {
        "colab": {
          "base_uri": "https://localhost:8080/",
          "height": 0
        },
        "id": "Kx_4WEET5T-T",
        "outputId": "4190d8e2-a345-41e6-cddc-f1b9674ab6f0"
      },
      "source": [
        "corpus = pd.read_csv('SMSSpamCollection', sep='\\t', names=['label','message'])\n",
        "corpus.head()"
      ],
      "execution_count": 3,
      "outputs": [
        {
          "output_type": "execute_result",
          "data": {
            "text/html": [
              "<div>\n",
              "<style scoped>\n",
              "    .dataframe tbody tr th:only-of-type {\n",
              "        vertical-align: middle;\n",
              "    }\n",
              "\n",
              "    .dataframe tbody tr th {\n",
              "        vertical-align: top;\n",
              "    }\n",
              "\n",
              "    .dataframe thead th {\n",
              "        text-align: right;\n",
              "    }\n",
              "</style>\n",
              "<table border=\"1\" class=\"dataframe\">\n",
              "  <thead>\n",
              "    <tr style=\"text-align: right;\">\n",
              "      <th></th>\n",
              "      <th>label</th>\n",
              "      <th>message</th>\n",
              "    </tr>\n",
              "  </thead>\n",
              "  <tbody>\n",
              "    <tr>\n",
              "      <th>0</th>\n",
              "      <td>ham</td>\n",
              "      <td>Go until jurong point, crazy.. Available only ...</td>\n",
              "    </tr>\n",
              "    <tr>\n",
              "      <th>1</th>\n",
              "      <td>ham</td>\n",
              "      <td>Ok lar... Joking wif u oni...</td>\n",
              "    </tr>\n",
              "    <tr>\n",
              "      <th>2</th>\n",
              "      <td>spam</td>\n",
              "      <td>Free entry in 2 a wkly comp to win FA Cup fina...</td>\n",
              "    </tr>\n",
              "    <tr>\n",
              "      <th>3</th>\n",
              "      <td>ham</td>\n",
              "      <td>U dun say so early hor... U c already then say...</td>\n",
              "    </tr>\n",
              "    <tr>\n",
              "      <th>4</th>\n",
              "      <td>ham</td>\n",
              "      <td>Nah I don't think he goes to usf, he lives aro...</td>\n",
              "    </tr>\n",
              "  </tbody>\n",
              "</table>\n",
              "</div>"
            ],
            "text/plain": [
              "  label                                            message\n",
              "0   ham  Go until jurong point, crazy.. Available only ...\n",
              "1   ham                      Ok lar... Joking wif u oni...\n",
              "2  spam  Free entry in 2 a wkly comp to win FA Cup fina...\n",
              "3   ham  U dun say so early hor... U c already then say...\n",
              "4   ham  Nah I don't think he goes to usf, he lives aro..."
            ]
          },
          "metadata": {
            "tags": []
          },
          "execution_count": 3
        }
      ]
    },
    {
      "cell_type": "code",
      "metadata": {
        "colab": {
          "base_uri": "https://localhost:8080/",
          "height": 0
        },
        "id": "XqQ-oJNk8Ccr",
        "outputId": "2c60392d-47f3-42e2-e227-dbd8a59f720b"
      },
      "source": [
        "corpus.info()"
      ],
      "execution_count": 4,
      "outputs": [
        {
          "output_type": "stream",
          "text": [
            "<class 'pandas.core.frame.DataFrame'>\n",
            "RangeIndex: 5572 entries, 0 to 5571\n",
            "Data columns (total 2 columns):\n",
            " #   Column   Non-Null Count  Dtype \n",
            "---  ------   --------------  ----- \n",
            " 0   label    5572 non-null   object\n",
            " 1   message  5572 non-null   object\n",
            "dtypes: object(2)\n",
            "memory usage: 87.2+ KB\n"
          ],
          "name": "stdout"
        }
      ]
    },
    {
      "cell_type": "code",
      "metadata": {
        "colab": {
          "base_uri": "https://localhost:8080/",
          "height": 0
        },
        "id": "dOlrRVr78OrZ",
        "outputId": "c0e57652-e6bb-48ba-cc87-d470e00a4f6f"
      },
      "source": [
        "corpus.describe()"
      ],
      "execution_count": 5,
      "outputs": [
        {
          "output_type": "execute_result",
          "data": {
            "text/html": [
              "<div>\n",
              "<style scoped>\n",
              "    .dataframe tbody tr th:only-of-type {\n",
              "        vertical-align: middle;\n",
              "    }\n",
              "\n",
              "    .dataframe tbody tr th {\n",
              "        vertical-align: top;\n",
              "    }\n",
              "\n",
              "    .dataframe thead th {\n",
              "        text-align: right;\n",
              "    }\n",
              "</style>\n",
              "<table border=\"1\" class=\"dataframe\">\n",
              "  <thead>\n",
              "    <tr style=\"text-align: right;\">\n",
              "      <th></th>\n",
              "      <th>label</th>\n",
              "      <th>message</th>\n",
              "    </tr>\n",
              "  </thead>\n",
              "  <tbody>\n",
              "    <tr>\n",
              "      <th>count</th>\n",
              "      <td>5572</td>\n",
              "      <td>5572</td>\n",
              "    </tr>\n",
              "    <tr>\n",
              "      <th>unique</th>\n",
              "      <td>2</td>\n",
              "      <td>5169</td>\n",
              "    </tr>\n",
              "    <tr>\n",
              "      <th>top</th>\n",
              "      <td>ham</td>\n",
              "      <td>Sorry, I'll call later</td>\n",
              "    </tr>\n",
              "    <tr>\n",
              "      <th>freq</th>\n",
              "      <td>4825</td>\n",
              "      <td>30</td>\n",
              "    </tr>\n",
              "  </tbody>\n",
              "</table>\n",
              "</div>"
            ],
            "text/plain": [
              "       label                 message\n",
              "count   5572                    5572\n",
              "unique     2                    5169\n",
              "top      ham  Sorry, I'll call later\n",
              "freq    4825                      30"
            ]
          },
          "metadata": {
            "tags": []
          },
          "execution_count": 5
        }
      ]
    },
    {
      "cell_type": "code",
      "metadata": {
        "colab": {
          "base_uri": "https://localhost:8080/",
          "height": 0
        },
        "id": "vGKMP1xO8vMl",
        "outputId": "0308b9ee-6334-4522-e80b-3b69958e4c9e"
      },
      "source": [
        "corpus.groupby('label').describe()"
      ],
      "execution_count": 6,
      "outputs": [
        {
          "output_type": "execute_result",
          "data": {
            "text/html": [
              "<div>\n",
              "<style scoped>\n",
              "    .dataframe tbody tr th:only-of-type {\n",
              "        vertical-align: middle;\n",
              "    }\n",
              "\n",
              "    .dataframe tbody tr th {\n",
              "        vertical-align: top;\n",
              "    }\n",
              "\n",
              "    .dataframe thead tr th {\n",
              "        text-align: left;\n",
              "    }\n",
              "\n",
              "    .dataframe thead tr:last-of-type th {\n",
              "        text-align: right;\n",
              "    }\n",
              "</style>\n",
              "<table border=\"1\" class=\"dataframe\">\n",
              "  <thead>\n",
              "    <tr>\n",
              "      <th></th>\n",
              "      <th colspan=\"4\" halign=\"left\">message</th>\n",
              "    </tr>\n",
              "    <tr>\n",
              "      <th></th>\n",
              "      <th>count</th>\n",
              "      <th>unique</th>\n",
              "      <th>top</th>\n",
              "      <th>freq</th>\n",
              "    </tr>\n",
              "    <tr>\n",
              "      <th>label</th>\n",
              "      <th></th>\n",
              "      <th></th>\n",
              "      <th></th>\n",
              "      <th></th>\n",
              "    </tr>\n",
              "  </thead>\n",
              "  <tbody>\n",
              "    <tr>\n",
              "      <th>ham</th>\n",
              "      <td>4825</td>\n",
              "      <td>4516</td>\n",
              "      <td>Sorry, I'll call later</td>\n",
              "      <td>30</td>\n",
              "    </tr>\n",
              "    <tr>\n",
              "      <th>spam</th>\n",
              "      <td>747</td>\n",
              "      <td>653</td>\n",
              "      <td>Please call our customer service representativ...</td>\n",
              "      <td>4</td>\n",
              "    </tr>\n",
              "  </tbody>\n",
              "</table>\n",
              "</div>"
            ],
            "text/plain": [
              "      message                                                               \n",
              "        count unique                                                top freq\n",
              "label                                                                       \n",
              "ham      4825   4516                             Sorry, I'll call later   30\n",
              "spam      747    653  Please call our customer service representativ...    4"
            ]
          },
          "metadata": {
            "tags": []
          },
          "execution_count": 6
        }
      ]
    },
    {
      "cell_type": "code",
      "metadata": {
        "colab": {
          "base_uri": "https://localhost:8080/",
          "height": 0
        },
        "id": "TwaI8urJ9sjF",
        "outputId": "a4272a22-e65b-41da-e959-9cc03e2a57e1"
      },
      "source": [
        "# Checking a random message at row 13\n",
        "print('Length of Message: {}\\n Message: {}'.format(len(corpus['message'][13]), corpus['message'][13]))"
      ],
      "execution_count": 7,
      "outputs": [
        {
          "output_type": "stream",
          "text": [
            "Length of Message: 196\n",
            " Message: I've been searching for the right words to thank you for this breather. I promise i wont take your help for granted and will fulfil my promise. You have been wonderful and a blessing at all times.\n"
          ],
          "name": "stdout"
        }
      ]
    },
    {
      "cell_type": "code",
      "metadata": {
        "colab": {
          "base_uri": "https://localhost:8080/",
          "height": 0
        },
        "id": "avDbyhQVAs3I",
        "outputId": "4e04c78b-f2c3-433f-8947-984c45096292"
      },
      "source": [
        "# Distribution of labels in data\n",
        "sns.countplot(corpus['label'])\n",
        "display(corpus['label'].value_counts())\n",
        "\n",
        "# Ham messages are 4825 and Spam are 747, i.e Imbalanced dataset"
      ],
      "execution_count": 8,
      "outputs": [
        {
          "output_type": "stream",
          "text": [
            "/usr/local/lib/python3.7/dist-packages/seaborn/_decorators.py:43: FutureWarning: Pass the following variable as a keyword arg: x. From version 0.12, the only valid positional argument will be `data`, and passing other arguments without an explicit keyword will result in an error or misinterpretation.\n",
            "  FutureWarning\n"
          ],
          "name": "stderr"
        },
        {
          "output_type": "display_data",
          "data": {
            "text/plain": [
              "ham     4825\n",
              "spam     747\n",
              "Name: label, dtype: int64"
            ]
          },
          "metadata": {
            "tags": []
          }
        },
        {
          "output_type": "display_data",
          "data": {
            "image/png": "[encoded data removed]",
            "text/plain": [
              "<Figure size 432x288 with 1 Axes>"
            ]
          },
          "metadata": {
            "tags": [],
            "needs_background": "light"
          }
        }
      ]
    },
    {
      "cell_type": "code",
      "metadata": {
        "id": "9tY3JwcnCKOP",
        "colab": {
          "base_uri": "https://localhost:8080/",
          "height": 0
        },
        "outputId": "e60f8fd5-2ebe-4267-e41a-d35cf86b3778"
      },
      "source": [
        "# Adding 'length' column to corpus\n",
        "corpus['length'] = corpus['message'].apply(len)\n",
        "corpus"
      ],
      "execution_count": 9,
      "outputs": [
        {
          "output_type": "execute_result",
          "data": {
            "text/html": [
              "<div>\n",
              "<style scoped>\n",
              "    .dataframe tbody tr th:only-of-type {\n",
              "        vertical-align: middle;\n",
              "    }\n",
              "\n",
              "    .dataframe tbody tr th {\n",
              "        vertical-align: top;\n",
              "    }\n",
              "\n",
              "    .dataframe thead th {\n",
              "        text-align: right;\n",
              "    }\n",
              "</style>\n",
              "<table border=\"1\" class=\"dataframe\">\n",
              "  <thead>\n",
              "    <tr style=\"text-align: right;\">\n",
              "      <th></th>\n",
              "      <th>label</th>\n",
              "      <th>message</th>\n",
              "      <th>length</th>\n",
              "    </tr>\n",
              "  </thead>\n",
              "  <tbody>\n",
              "    <tr>\n",
              "      <th>0</th>\n",
              "      <td>ham</td>\n",
              "      <td>Go until jurong point, crazy.. Available only ...</td>\n",
              "      <td>111</td>\n",
              "    </tr>\n",
              "    <tr>\n",
              "      <th>1</th>\n",
              "      <td>ham</td>\n",
              "      <td>Ok lar... Joking wif u oni...</td>\n",
              "      <td>29</td>\n",
              "    </tr>\n",
              "    <tr>\n",
              "      <th>2</th>\n",
              "      <td>spam</td>\n",
              "      <td>Free entry in 2 a wkly comp to win FA Cup fina...</td>\n",
              "      <td>155</td>\n",
              "    </tr>\n",
              "    <tr>\n",
              "      <th>3</th>\n",
              "      <td>ham</td>\n",
              "      <td>U dun say so early hor... U c already then say...</td>\n",
              "      <td>49</td>\n",
              "    </tr>\n",
              "    <tr>\n",
              "      <th>4</th>\n",
              "      <td>ham</td>\n",
              "      <td>Nah I don't think he goes to usf, he lives aro...</td>\n",
              "      <td>61</td>\n",
              "    </tr>\n",
              "    <tr>\n",
              "      <th>...</th>\n",
              "      <td>...</td>\n",
              "      <td>...</td>\n",
              "      <td>...</td>\n",
              "    </tr>\n",
              "    <tr>\n",
              "      <th>5567</th>\n",
              "      <td>spam</td>\n",
              "      <td>This is the 2nd time we have tried 2 contact u...</td>\n",
              "      <td>160</td>\n",
              "    </tr>\n",
              "    <tr>\n",
              "      <th>5568</th>\n",
              "      <td>ham</td>\n",
              "      <td>Will ü b going to esplanade fr home?</td>\n",
              "      <td>36</td>\n",
              "    </tr>\n",
              "    <tr>\n",
              "      <th>5569</th>\n",
              "      <td>ham</td>\n",
              "      <td>Pity, * was in mood for that. So...any other s...</td>\n",
              "      <td>57</td>\n",
              "    </tr>\n",
              "    <tr>\n",
              "      <th>5570</th>\n",
              "      <td>ham</td>\n",
              "      <td>The guy did some bitching but I acted like i'd...</td>\n",
              "      <td>125</td>\n",
              "    </tr>\n",
              "    <tr>\n",
              "      <th>5571</th>\n",
              "      <td>ham</td>\n",
              "      <td>Rofl. Its true to its name</td>\n",
              "      <td>26</td>\n",
              "    </tr>\n",
              "  </tbody>\n",
              "</table>\n",
              "<p>5572 rows × 3 columns</p>\n",
              "</div>"
            ],
            "text/plain": [
              "     label                                            message  length\n",
              "0      ham  Go until jurong point, crazy.. Available only ...     111\n",
              "1      ham                      Ok lar... Joking wif u oni...      29\n",
              "2     spam  Free entry in 2 a wkly comp to win FA Cup fina...     155\n",
              "3      ham  U dun say so early hor... U c already then say...      49\n",
              "4      ham  Nah I don't think he goes to usf, he lives aro...      61\n",
              "...    ...                                                ...     ...\n",
              "5567  spam  This is the 2nd time we have tried 2 contact u...     160\n",
              "5568   ham               Will ü b going to esplanade fr home?      36\n",
              "5569   ham  Pity, * was in mood for that. So...any other s...      57\n",
              "5570   ham  The guy did some bitching but I acted like i'd...     125\n",
              "5571   ham                         Rofl. Its true to its name      26\n",
              "\n",
              "[5572 rows x 3 columns]"
            ]
          },
          "metadata": {
            "tags": []
          },
          "execution_count": 9
        }
      ]
    },
    {
      "cell_type": "code",
      "metadata": {
        "colab": {
          "base_uri": "https://localhost:8080/",
          "height": 0
        },
        "id": "cyN5yxYOE0is",
        "outputId": "be68640a-32d2-4def-b778-c74b5cf76ef2"
      },
      "source": [
        "corpus['length'].describe()\n",
        "# Messages with minimum length is 2 and maximum length of 910"
      ],
      "execution_count": 10,
      "outputs": [
        {
          "output_type": "execute_result",
          "data": {
            "text/plain": [
              "count    5572.000000\n",
              "mean       80.489950\n",
              "std        59.942907\n",
              "min         2.000000\n",
              "25%        36.000000\n",
              "50%        62.000000\n",
              "75%       122.000000\n",
              "max       910.000000\n",
              "Name: length, dtype: float64"
            ]
          },
          "metadata": {
            "tags": []
          },
          "execution_count": 10
        }
      ]
    },
    {
      "cell_type": "code",
      "metadata": {
        "colab": {
          "base_uri": "https://localhost:8080/",
          "height": 0
        },
        "id": "2gYLO-LzFAwv",
        "outputId": "aaea8851-af89-484a-851c-b1f91b16e176"
      },
      "source": [
        "# Minimum length message\n",
        "\n",
        "print('min_mess: \\n\\n')\n",
        "corpus[corpus['length']==2]['message'].iloc[:]"
      ],
      "execution_count": 11,
      "outputs": [
        {
          "output_type": "stream",
          "text": [
            "min_mess: \n",
            "\n",
            "\n"
          ],
          "name": "stdout"
        },
        {
          "output_type": "execute_result",
          "data": {
            "text/plain": [
              "1925    Ok\n",
              "3051    Ok\n",
              "4498    Ok\n",
              "5357    Ok\n",
              "Name: message, dtype: object"
            ]
          },
          "metadata": {
            "tags": []
          },
          "execution_count": 11
        }
      ]
    },
    {
      "cell_type": "code",
      "metadata": {
        "colab": {
          "base_uri": "https://localhost:8080/",
          "height": 0
        },
        "id": "K3oSxbjIFmob",
        "outputId": "ea67f5c8-2b88-4586-d26b-26fa47070a26"
      },
      "source": [
        "# Maximum length message\n",
        "\n",
        "print('max_mess: \\n') \n",
        "corpus[corpus['length']==910]['message'].iloc[0]"
      ],
      "execution_count": 12,
      "outputs": [
        {
          "output_type": "stream",
          "text": [
            "max_mess: \n",
            "\n"
          ],
          "name": "stdout"
        },
        {
          "output_type": "execute_result",
          "data": {
            "application/vnd.google.colaboratory.intrinsic+json": {
              "type": "string"
            },
            "text/plain": [
              "\"For me the love should start with attraction.i should feel that I need her every time around me.she should be the first thing which comes in my thoughts.I would start the day and end it with her.she should be there every time I dream.love will be then when my every breath has her name.my life should happen around her.my life will be named to her.I would cry for her.will give all my happiness and take all her sorrows.I will be ready to fight with anyone for her.I will be in love when I will be doing the craziest things for her.love will be when I don't have to proove anyone that my girl is the most beautiful lady on the whole planet.I will always be singing praises for her.love will be when I start up making chicken curry and end up makiing sambar.life will be the most beautiful then.will get every morning and thank god for the day because she is with me.I would like to say a lot..will tell later..\""
            ]
          },
          "metadata": {
            "tags": []
          },
          "execution_count": 12
        }
      ]
    },
    {
      "cell_type": "code",
      "metadata": {
        "colab": {
          "base_uri": "https://localhost:8080/",
          "height": 0
        },
        "id": "sJMOBBaaA3UX",
        "outputId": "28db9105-90a0-4ab8-a1b4-885e29accac4"
      },
      "source": [
        "# Average lengths of ham and spam\n",
        "\n",
        "corpus.groupby('label').mean()['length']"
      ],
      "execution_count": 13,
      "outputs": [
        {
          "output_type": "execute_result",
          "data": {
            "text/plain": [
              "label\n",
              "ham      71.482487\n",
              "spam    138.670683\n",
              "Name: length, dtype: float64"
            ]
          },
          "metadata": {
            "tags": []
          },
          "execution_count": 13
        }
      ]
    },
    {
      "cell_type": "code",
      "metadata": {
        "colab": {
          "base_uri": "https://localhost:8080/",
          "height": 0
        },
        "id": "fcR9zmLBCkMw",
        "outputId": "06df6c93-bc6d-4130-da27-45721f04386b"
      },
      "source": [
        "# Distribution of spam and ham messages length\n",
        "\n",
        "corpus.hist(column='length', by='label', bins=50)"
      ],
      "execution_count": 14,
      "outputs": [
        {
          "output_type": "execute_result",
          "data": {
            "text/plain": [
              "array([<matplotlib.axes._subplots.AxesSubplot object at 0x7fdd62603450>,\n",
              "       <matplotlib.axes._subplots.AxesSubplot object at 0x7fdd625b3a90>],\n",
              "      dtype=object)"
            ]
          },
          "metadata": {
            "tags": []
          },
          "execution_count": 14
        },
        {
          "output_type": "display_data",
          "data": {
            "image/png": "[encoded data removed]",
            "text/plain": [
              "<Figure size 432x288 with 2 Axes>"
            ]
          },
          "metadata": {
            "tags": [],
            "needs_background": "light"
          }
        }
      ]
    },
    {
      "cell_type": "markdown",
      "metadata": {
        "id": "rdTmih0jjFo2"
      },
      "source": [
        "# Model Building"
      ]
    },
    {
      "cell_type": "code",
      "metadata": {
        "id": "5fTS1vaogeSQ"
      },
      "source": [
        "# Splitting data in to train and test messages\n",
        "\n",
        "X = corpus['message']\n",
        "y = corpus['label']\n",
        "text_train, text_test, y_train, y_test = train_test_split(X, y, test_size=0.3, random_state=22) "
      ],
      "execution_count": 15,
      "outputs": []
    },
    {
      "cell_type": "markdown",
      "metadata": {
        "id": "hE7eWUJKamgU"
      },
      "source": [
        "Two classifiers are considered for classifying high-dimensional, sparse data:\n",
        "- Logistic Regression\n",
        "- Multinomial Naive Bayes (selected)"
      ]
    },
    {
      "cell_type": "markdown",
      "metadata": {
        "id": "2hqAL-wMPNDe"
      },
      "source": [
        "## Logistic Regression"
      ]
    },
    {
      "cell_type": "code",
      "metadata": {
        "id": "F7LovYsreOt3",
        "colab": {
          "base_uri": "https://localhost:8080/",
          "height": 0
        },
        "outputId": "ac8ea855-d4e9-4821-9db3-5899670f5c28"
      },
      "source": [
        "# PIPELINE [tf–idf actually makes use of the statistical properties of the training data]\n",
        "pipe_lr = make_pipeline(CountVectorizer(stop_words='english'), #   (Tokenization, Vocabulary building)\n",
        "                        TfidfTransformer(), # Transforms sparse matrix output produced by CountVectorizer(Uses L2 normalization)\n",
        "                        LogisticRegression(max_iter=1000)) # Model to classify spam/ham\n",
        "\n",
        "# parameters for grid search\n",
        "param_grid_lr = {'countvectorizer__ngram_range' : [(1,1), (1,2)], # Combination of words to consider\n",
        "                 'countvectorizer__min_df' : [1,2,3], # Minimum appearence in documents\n",
        "                 'logisticregression__C' : [0.1,1,10,100,1000]} # Regularization Parameter\n",
        "\n",
        "\n",
        "# GRID SEARCH (using pipeline and param_grid along with cross-validation)\n",
        "grid_lr = GridSearchCV(pipe_lr, param_grid_lr, cv=5, n_jobs=-1)\n",
        "\n",
        "# Fit train data to grid\n",
        "grid_lr.fit(text_train, y_train)\n",
        "\n",
        "print('Best cross-validation score : {:.2f}\\n'.format(grid_lr.best_score_))\n",
        "print('Best Parameters: ', grid_lr.best_params_)"
      ],
      "execution_count": 16,
      "outputs": [
        {
          "output_type": "stream",
          "text": [
            "Best cross-validation score : 0.98\n",
            "\n",
            "Best Parameters:  {'countvectorizer__min_df': 2, 'countvectorizer__ngram_range': (1, 2), 'logisticregression__C': 100}\n"
          ],
          "name": "stdout"
        }
      ]
    },
    {
      "cell_type": "markdown",
      "metadata": {
        "id": "5Pf9PXLVZxF6"
      },
      "source": [
        "## Multinomial Naive-Bayes"
      ]
    },
    {
      "cell_type": "code",
      "metadata": {
        "id": "4MjZfB58obGU",
        "colab": {
          "base_uri": "https://localhost:8080/",
          "height": 0
        },
        "outputId": "be0c1d3c-bd8b-4c25-807b-6626073eca48"
      },
      "source": [
        "# PIPELINE [tf–idf actually makes use of the statistical properties of the training data]\n",
        "pipe_nb = make_pipeline(CountVectorizer(stop_words='english'), # Bag-of-words (Tokenization, Vocabulary building)\n",
        "                     TfidfTransformer(), # Transforms sparse matrix output produced by CountVectorizer(Uses L2 normalization)\n",
        "                     MultinomialNB()) # Model to classify spam/ham\n",
        "\n",
        "# parameters for grid search\n",
        "param_grid_nb = {'countvectorizer__ngram_range' : [(1,1), (1,2)], # Combination of words to consider\n",
        "              'countvectorizer__min_df' : [1,2,3], # Minimum appearence in documents\n",
        "              'multinomialnb__alpha' : [0.001,0.01,0.1,1,10]} # Regularization Parameter\n",
        "\n",
        "# GRID SEARCH (using pipeline and param_grid along with cross-validation)\n",
        "grid_nb = GridSearchCV(pipe_nb, param_grid_nb, cv=5, n_jobs=-1)\n",
        "\n",
        "# Fit train data to grid\n",
        "grid_nb.fit(text_train, y_train)\n",
        "\n",
        "print('Best cross-validation score : {:.2f}\\n'.format(grid_nb.best_score_))\n",
        "print('Best Parameters: ', grid_nb.best_params_)\n"
      ],
      "execution_count": 17,
      "outputs": [
        {
          "output_type": "stream",
          "text": [
            "Best cross-validation score : 0.99\n",
            "\n",
            "Best Parameters:  {'countvectorizer__min_df': 1, 'countvectorizer__ngram_range': (1, 2), 'multinomialnb__alpha': 0.1}\n"
          ],
          "name": "stdout"
        }
      ]
    },
    {
      "cell_type": "markdown",
      "metadata": {
        "id": "FC9PI4wobc1d"
      },
      "source": [
        "Both models performs almost simillarly on this data, Choosing **Multinomial Naive Bayes**"
      ]
    },
    {
      "cell_type": "code",
      "metadata": {
        "id": "BxNGOGwftqp3",
        "colab": {
          "base_uri": "https://localhost:8080/",
          "height": 0
        },
        "outputId": "2beb8c97-be9d-49b3-d719-3b459fd6b786"
      },
      "source": [
        "# Cross validation mean scores\n",
        "grid_nb.cv_results_['mean_test_score']"
      ],
      "execution_count": 18,
      "outputs": [
        {
          "output_type": "execute_result",
          "data": {
            "text/plain": [
              "array([0.97974359, 0.98102564, 0.98461538, 0.96589744, 0.86435897,\n",
              "       0.98230769, 0.98410256, 0.98512821, 0.95333333, 0.86435897,\n",
              "       0.98076923, 0.98153846, 0.9825641 , 0.97564103, 0.86717949,\n",
              "       0.98307692, 0.98384615, 0.98461538, 0.96846154, 0.86435897,\n",
              "       0.97948718, 0.98128205, 0.98179487, 0.97948718, 0.87384615,\n",
              "       0.98230769, 0.98307692, 0.98358974, 0.97512821, 0.86641026])"
            ]
          },
          "metadata": {
            "tags": []
          },
          "execution_count": 18
        }
      ]
    },
    {
      "cell_type": "code",
      "metadata": {
        "colab": {
          "base_uri": "https://localhost:8080/",
          "height": 0
        },
        "id": "oGW3o8-Vf56n",
        "outputId": "185178e7-bb2d-45b3-9464-2be0fcb351de"
      },
      "source": [
        "# Best Estimator\n",
        "grid_nb.best_estimator_"
      ],
      "execution_count": 19,
      "outputs": [
        {
          "output_type": "execute_result",
          "data": {
            "text/plain": [
              "Pipeline(memory=None,\n",
              "         steps=[('countvectorizer',\n",
              "                 CountVectorizer(analyzer='word', binary=False,\n",
              "                                 decode_error='strict',\n",
              "                                 dtype=<class 'numpy.int64'>, encoding='utf-8',\n",
              "                                 input='content', lowercase=True, max_df=1.0,\n",
              "                                 max_features=None, min_df=1,\n",
              "                                 ngram_range=(1, 2), preprocessor=None,\n",
              "                                 stop_words='english', strip_accents=None,\n",
              "                                 token_pattern='(?u)\\\\b\\\\w\\\\w+\\\\b',\n",
              "                                 tokenizer=None, vocabulary=None)),\n",
              "                ('tfidftransformer',\n",
              "                 TfidfTransformer(norm='l2', smooth_idf=True,\n",
              "                                  sublinear_tf=False, use_idf=True)),\n",
              "                ('multinomialnb',\n",
              "                 MultinomialNB(alpha=0.1, class_prior=None, fit_prior=True))],\n",
              "         verbose=False)"
            ]
          },
          "metadata": {
            "tags": []
          },
          "execution_count": 19
        }
      ]
    },
    {
      "cell_type": "code",
      "metadata": {
        "colab": {
          "base_uri": "https://localhost:8080/",
          "height": 0
        },
        "id": "JbapjKHAb_Ii",
        "outputId": "c216d04d-ee22-4107-e79a-94bc24f05dbe"
      },
      "source": [
        "# Count Vectorizer\n",
        "vect = grid_nb.best_estimator_.named_steps[\"countvectorizer\"]\n",
        "\n",
        "# Vocabulary\n",
        "print('len of vocabulary : ',len(vect.vocabulary_))\n",
        "print('Every 500th vocabulary:\\n', vect.get_feature_names()[::1000])\n",
        "\n",
        "# Stop Words\n",
        "print('\\nlen of stop words : ',len(vect.get_stop_words()))\n",
        "print('\\nstop words : ',vect.get_stop_words())"
      ],
      "execution_count": 20,
      "outputs": [
        {
          "output_type": "stream",
          "text": [
            "len of vocabulary :  28452\n",
            "Every 500th vocabulary:\n",
            " ['00', '35p', 'ah okie', 'bad character', 'bslvyl', 'claim free', 'credit receive', 'diff guess', 'emailed', 'flies room', 'god power', 'half let', 'hot mail', 'journey let', 'left early', 'love ass', 'min term', 'needle', 'orange line', 'plz don', 'real sense', 'sale', 'si think', 'starting issue', 'telly', 'told car', 'ur med', 'way friendship', 'xavier decided']\n",
            "\n",
            "len of stop words :  318\n",
            "\n",
            "stop words :  frozenset({'much', 'could', 'done', 'him', 'show', 'when', 'part', 'against', 'put', 'more', 'those', 'ie', 'can', 'another', 'otherwise', 'since', 'now', 'whole', 'forty', 'ours', 'her', 'they', 'be', 'sixty', 'i', 'often', 'seeming', 'twenty', 'whereafter', 'mostly', 'own', 'have', 'becomes', 'interest', 'ourselves', 'we', 'same', 'already', 'five', 'beside', 'full', 'what', 'whenever', 'found', 'move', 'above', 'herein', 'meanwhile', 'everyone', 'whereby', 'and', 'she', 'whose', 'becoming', 'cry', 'inc', 'whence', 'them', 'amoungst', 'during', 'none', 'before', 'un', 'fill', 'made', 'nine', 'serious', 'last', 'throughout', 'hers', 'eight', 'thick', 'off', 'anyhow', 'out', 'however', 'herself', 'any', 'describe', 'to', 'thru', 'noone', 'too', 'whereupon', 'therefore', 'co', 'so', 'nothing', 'take', 'around', 'how', 'indeed', 'yourselves', 'all', 'most', 'about', 'via', 'eg', 'although', 'which', 'latterly', 'its', 'became', 'or', 'why', 'one', 'while', 'almost', 'with', 'up', 'side', 'me', 'behind', 'bottom', 'the', 'at', 'once', 'everywhere', 'of', 'into', 'amongst', 'therein', 'seems', 'would', 'cannot', 'under', 'first', 'also', 'this', 'was', 'nowhere', 'within', 'mill', 'moreover', 'everything', 'besides', 'as', 'top', 'six', 'go', 'by', 'either', 'whereas', 'who', 'whither', 'etc', 'anyway', 'only', 'third', 'afterwards', 'am', 'next', 'my', 'elsewhere', 'that', 'seem', 'yet', 'anywhere', 'nevertheless', 'con', 'through', 'each', 'might', 'must', 'ten', 'thereupon', 'such', 'many', 'has', 'nobody', 'sincere', 'back', 'will', 'keep', 'two', 'along', 'latter', 'something', 'been', 'call', 'itself', 'formerly', 'beyond', 'still', 'further', 'even', 'somewhere', 'three', 'whether', 'other', 'except', 'toward', 'it', 'several', 'were', 'thus', 'but', 'below', 'being', 'thence', 'themselves', 're', 'ever', 'somehow', 'then', 'enough', 'beforehand', 'fifty', 'though', 'you', 'cant', 'well', 'where', 'hereby', 'without', 'do', 'name', 'someone', 'get', 'please', 'thin', 'their', 'on', 'seemed', 'whatever', 'from', 'may', 'system', 'in', 'onto', 'least', 'see', 'few', 'hence', 'together', 'namely', 'towards', 'no', 'every', 'rather', 'an', 'your', 'eleven', 'if', 'thereafter', 'yours', 'between', 'not', 'thereby', 'over', 'yourself', 'whoever', 'per', 'find', 'less', 'had', 'upon', 'front', 'hereafter', 'both', 'four', 'wherein', 'are', 'hereupon', 'bill', 'there', 'ltd', 'wherever', 'former', 'hasnt', 'down', 'couldnt', 'twelve', 'anyone', 'he', 'should', 'very', 'here', 'detail', 'these', 'his', 'himself', 'sometime', 'myself', 'across', 'nor', 'perhaps', 'always', 'fire', 'neither', 'fifteen', 'empty', 'is', 'anything', 'sometimes', 'due', 'others', 'de', 'among', 'again', 'than', 'mine', 'until', 'amount', 'some', 'after', 'alone', 'a', 'hundred', 'give', 'us', 'for', 'else', 'never', 'become', 'our', 'whom', 'because'})\n"
          ],
          "name": "stdout"
        }
      ]
    },
    {
      "cell_type": "code",
      "metadata": {
        "colab": {
          "base_uri": "https://localhost:8080/",
          "height": 0
        },
        "id": "3Amy9P5idyn2",
        "outputId": "e50718ff-2df1-4ec6-ea6d-469cd5a585a4"
      },
      "source": [
        "# Tf-idf Transformer\n",
        "tfidf = grid_nb.best_estimator_.named_steps[\"tfidftransformer\"]\n",
        "\n",
        "print('len of vocabulary : ',len(tfidf.idf_))\n",
        "\n",
        "print('\\nIDF of word \"phone\" is', tfidf.idf_[vect.vocabulary_['phone']])\n",
        "print('IDF of word \"cat\" is', tfidf.idf_[vect.vocabulary_['cat']])"
      ],
      "execution_count": 21,
      "outputs": [
        {
          "output_type": "stream",
          "text": [
            "len of vocabulary :  28452\n",
            "\n",
            "IDF of word \"phone\" is 4.912279382817065\n",
            "IDF of word \"cat\" is 7.882693848386766\n"
          ],
          "name": "stdout"
        }
      ]
    },
    {
      "cell_type": "markdown",
      "metadata": {
        "id": "Y-RH1tbib2tk"
      },
      "source": [
        "# Predictions and Evaluation"
      ]
    },
    {
      "cell_type": "code",
      "metadata": {
        "id": "i_vYeBXetqp6",
        "colab": {
          "base_uri": "https://localhost:8080/",
          "height": 0
        },
        "outputId": "10a8846f-19d1-4667-d11c-1c3dd6c46d23"
      },
      "source": [
        "y_pred_nb = grid_nb.predict(text_test)\n",
        "\n",
        "print('Test Score: {:.3f}'.format(grid_nb.score(text_test, y_test)))\n",
        "\n",
        "print('\\nConfusion Matrix: \\n', confusion_matrix(y_test, y_pred_nb))\n",
        "print('\\nClassification Report: \\n', classification_report(y_test, y_pred_nb))"
      ],
      "execution_count": 22,
      "outputs": [
        {
          "output_type": "stream",
          "text": [
            "Test Score: 0.987\n",
            "\n",
            "Confusion Matrix: \n",
            " [[1452    2]\n",
            " [  19  199]]\n",
            "\n",
            "Classification Report: \n",
            "               precision    recall  f1-score   support\n",
            "\n",
            "         ham       0.99      1.00      0.99      1454\n",
            "        spam       0.99      0.91      0.95       218\n",
            "\n",
            "    accuracy                           0.99      1672\n",
            "   macro avg       0.99      0.96      0.97      1672\n",
            "weighted avg       0.99      0.99      0.99      1672\n",
            "\n"
          ],
          "name": "stdout"
        }
      ]
    },
    {
      "cell_type": "markdown",
      "metadata": {
        "id": "1IONCXIxkDKX"
      },
      "source": [
        "# **New SMS Classifier Prediction for User**"
      ]
    },
    {
      "cell_type": "markdown",
      "metadata": {
        "id": "sfJ09ihp2lym"
      },
      "source": [
        "Re-Modelling"
      ]
    },
    {
      "cell_type": "code",
      "metadata": {
        "id": "ZxsGE0IB7lP5",
        "colab": {
          "base_uri": "https://localhost:8080/",
          "height": 0
        },
        "outputId": "6036df87-68d6-4f2f-e798-f2025aa1d0c9"
      },
      "source": [
        "# MultinomialNB model using the best parameters and complete data (messages)\n",
        "pipe = make_pipeline(CountVectorizer(stop_words='english', ngram_range=(1,2)),\n",
        "                     TfidfTransformer(),\n",
        "                     MultinomialNB(alpha=0.1))\n",
        "model = pipe.fit(X,y)\n",
        "print('Final Score - ',model.score(X, y))"
      ],
      "execution_count": 23,
      "outputs": [
        {
          "output_type": "stream",
          "text": [
            "Final Score -  1.0\n"
          ],
          "name": "stdout"
        }
      ]
    },
    {
      "cell_type": "markdown",
      "metadata": {
        "id": "hZv2WaFskeKa"
      },
      "source": [
        "Function to classify any user provided message"
      ]
    },
    {
      "cell_type": "code",
      "metadata": {
        "id": "hHAB4f_L9LW9"
      },
      "source": [
        "def classify(x):\n",
        "  pred = model.predict([x])\n",
        "  return \"This is a Spam message\" if pred[0]=='spam' else \"This is not a Spam message\""
      ],
      "execution_count": 24,
      "outputs": []
    },
    {
      "cell_type": "markdown",
      "metadata": {
        "id": "osQuMR0pkqCf"
      },
      "source": [
        "--> Type any new text in `message = '___' ` and Run"
      ]
    },
    {
      "cell_type": "code",
      "metadata": {
        "colab": {
          "base_uri": "https://localhost:8080/",
          "height": 35
        },
        "id": "qjIxGqSAkZ4m",
        "outputId": "762f2865-bd4b-4f22-cede-b1b005ec1357"
      },
      "source": [
        "# This is a new message out of dataset\n",
        "message = 'Our records show that you overpaid for (a product or service). Kindly supply your bank routing and account number to receive your refund.'\n",
        "\n",
        "classify(message)"
      ],
      "execution_count": 25,
      "outputs": [
        {
          "output_type": "execute_result",
          "data": {
            "application/vnd.google.colaboratory.intrinsic+json": {
              "type": "string"
            },
            "text/plain": [
              "'This is a Spam message'"
            ]
          },
          "metadata": {
            "tags": []
          },
          "execution_count": 25
        }
      ]
    },
    {
      "cell_type": "code",
      "metadata": {
        "colab": {
          "base_uri": "https://localhost:8080/",
          "height": 35
        },
        "id": "EUVahzyNlsKl",
        "outputId": "37c918e0-2aa5-499d-df91-d294fb5c5261"
      },
      "source": [
        "message = 'Hey, hope you are doing well and sound'\n",
        "\n",
        "classify(message)"
      ],
      "execution_count": 26,
      "outputs": [
        {
          "output_type": "execute_result",
          "data": {
            "application/vnd.google.colaboratory.intrinsic+json": {
              "type": "string"
            },
            "text/plain": [
              "'This is not a Spam message'"
            ]
          },
          "metadata": {
            "tags": []
          },
          "execution_count": 26
        }
      ]
    },
    {
      "cell_type": "code",
      "metadata": {
        "colab": {
          "base_uri": "https://localhost:8080/",
          "height": 35
        },
        "id": "RCexa1eL-FmN",
        "outputId": "d2d0afde-10d6-4a64-b9b8-1f7ff071a908"
      },
      "source": [
        "# This is a new message out of dataset\n",
        "message = 'IMPORTANT - You could be entitled up to £3,160 in compensation from mis-sold PPI on a credit card or loan. Please reply PPI for info or STOP to opt out.'\n",
        "\n",
        "classify(message)"
      ],
      "execution_count": 27,
      "outputs": [
        {
          "output_type": "execute_result",
          "data": {
            "application/vnd.google.colaboratory.intrinsic+json": {
              "type": "string"
            },
            "text/plain": [
              "'This is a Spam message'"
            ]
          },
          "metadata": {
            "tags": []
          },
          "execution_count": 27
        }
      ]
    }
  ]
}